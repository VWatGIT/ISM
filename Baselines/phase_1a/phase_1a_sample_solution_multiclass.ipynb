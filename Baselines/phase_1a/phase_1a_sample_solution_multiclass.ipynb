{
 "cells": [
  {
   "cell_type": "markdown",
   "metadata": {},
   "source": [
    "# A. Extract Features"
   ]
  },
  {
   "cell_type": "code",
   "execution_count": 1,
   "metadata": {},
   "outputs": [],
   "source": [
    "from submission.utils.utils import extract_features_from_image, perform_pca, train_svm_model"
   ]
  },
  {
   "cell_type": "markdown",
   "metadata": {},
   "source": [
    "## A.1. Extract Features for Multiclass"
   ]
  },
  {
   "cell_type": "code",
   "execution_count": 2,
   "metadata": {},
   "outputs": [
    {
     "name": "stdout",
     "output_type": "stream",
     "text": [
      "Features shape: (2845, 791)\n",
      "Labels shape: (2845,)\n",
      "\n",
      "[1 1 1 ... 1 2 1]\n"
     ]
    }
   ],
   "source": [
    "from sklearn.model_selection import train_test_split\n",
    "import os\n",
    "import pandas as pd\n",
    "import cv2\n",
    "import numpy as np\n",
    "\n",
    "BASE_PATH = \"/datax/Maack/ism_2024_2025/sample_solution/phase_1a\"\n",
    "PATH_TO_GT = os.path.join(BASE_PATH, \"gt_for_classification_multiclass_from_filenames_0_index.csv\")\n",
    "PATH_TO_IMAGES = os.path.join(BASE_PATH, \"images\")\n",
    "\n",
    "df = pd.read_csv(PATH_TO_GT)\n",
    "\n",
    "images = df[\"file_name\"].tolist()\n",
    "\n",
    "features = []\n",
    "labels = []\n",
    "\n",
    "for i in range(len(df)):\n",
    "    \n",
    "    image_name = df.iloc[i][\"file_name\"]\n",
    "    label = df.iloc[i][\"category_id\"]\n",
    "\n",
    "    path_to_image = os.path.join(PATH_TO_IMAGES, image_name)\n",
    "    image = cv2.imread(path_to_image)\n",
    "    \n",
    "    image_features = extract_features_from_image(image)\n",
    "    \n",
    "    features.append(image_features)\n",
    "    labels.append(label)\n",
    "    \n",
    "features_multiclass = np.array(features)\n",
    "labels_multiclass = np.array(labels)\n",
    "\n",
    "print(\"Features shape:\", features_multiclass.shape)\n",
    "print(\"Labels shape:\", labels_multiclass.shape)\n",
    "print()\n",
    "print(labels_multiclass)"
   ]
  },
  {
   "cell_type": "markdown",
   "metadata": {},
   "source": [
    "## B.2. Use Prinicpal Component Anaylsis to reduce dimensionality"
   ]
  },
  {
   "cell_type": "code",
   "execution_count": 3,
   "metadata": {},
   "outputs": [],
   "source": [
    "k = 100\n",
    "features_multiclass_reduced = perform_pca(features_multiclass, k)"
   ]
  },
  {
   "cell_type": "markdown",
   "metadata": {},
   "source": [
    "# C. Train Classification Model for Multiclass"
   ]
  },
  {
   "cell_type": "code",
   "execution_count": 4,
   "metadata": {},
   "outputs": [
    {
     "name": "stdout",
     "output_type": "stream",
     "text": [
      "Test Accuracy: 0.97\n"
     ]
    }
   ],
   "source": [
    "# multiclass_model = train_svm_model(features_multiclass, labels_multiclass)\n",
    "multiclass_model = train_svm_model(features_multiclass_reduced, labels_multiclass)"
   ]
  },
  {
   "cell_type": "code",
   "execution_count": 5,
   "metadata": {},
   "outputs": [],
   "source": [
    "# save the weights of multiclass_model\n",
    "import pickle\n",
    "\n",
    "SAVE_PATH = \"/datax/Maack/ism_2024_2025/sample_solution/phase_1a/submission\" # change this to your own path\n",
    "\n",
    "with open(os.path.join(SAVE_PATH, \"multiclass_model.pkl\"), \"wb\") as f:\n",
    "    pickle.dump(multiclass_model, f)"
   ]
  }
 ],
 "metadata": {
  "kernelspec": {
   "display_name": "action_recog",
   "language": "python",
   "name": "python3"
  },
  "language_info": {
   "codemirror_mode": {
    "name": "ipython",
    "version": 3
   },
   "file_extension": ".py",
   "mimetype": "text/x-python",
   "name": "python",
   "nbconvert_exporter": "python",
   "pygments_lexer": "ipython3",
   "version": "3.9.19"
  }
 },
 "nbformat": 4,
 "nbformat_minor": 2
}
